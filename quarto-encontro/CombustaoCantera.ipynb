{
 "cells": [
  {
   "cell_type": "markdown",
   "id": "b92426dd-b9d6-42b9-aff1-fa10f579ab48",
   "metadata": {},
   "source": [
    "# Simulando a combustão no Cantera\n",
    "## Cursos de Verão IFMG-Arcos 2023\n",
    "### Rotinas computacionais aplicadas às Ciências Térmicas - GESESC\n",
    "#### Autor: *Reginaldo Gonçalves Leão Junior*\n",
    "\n",
    "Neste exemplo veremos o processo de combustão do metano em um reator fechado. \n",
    "Utilizaremos ar atmosférico na mistura para a combustão."
   ]
  },
  {
   "cell_type": "code",
   "execution_count": 1,
   "id": "b4baef5f-a3cf-4189-8084-395aab31e2d5",
   "metadata": {},
   "outputs": [],
   "source": [
    "import cantera as ct"
   ]
  },
  {
   "cell_type": "code",
   "execution_count": 2,
   "id": "5e713f5d-d81f-4c3d-a7ef-588a6b75f4ad",
   "metadata": {},
   "outputs": [],
   "source": [
    "gas = ct.Solution('gri30.yaml')"
   ]
  },
  {
   "cell_type": "markdown",
   "id": "97b3e191-750c-431f-836b-54c353a02c40",
   "metadata": {},
   "source": [
    "Agora determinamos a estequiometria da combustão.\n",
    "\n",
    "O cantera controla o enriquecimento de combustível de uma mistura por meio do conceito de *equivalence ratio* que é a razão oxidante-combustível da queima pela razão oxidante-combustível estequimétrica (para a queima completa)\n",
    "\n",
    "Neste exemplo, utilizaremos uma mistura pobre com *equivalence ratio* de 50% e um tempo de residência de 0.1s."
   ]
  },
  {
   "cell_type": "code",
   "execution_count": 3,
   "id": "18ecd934-564b-4cde-99b0-ea1cf364e776",
   "metadata": {},
   "outputs": [],
   "source": [
    "equiv_ratio = 0.5  # mistura pobre de combustível\n",
    "tmp_residence = 0.1"
   ]
  },
  {
   "cell_type": "markdown",
   "id": "ddb743dc-dd6d-4d02-ad57-7c90e11a7882",
   "metadata": {},
   "source": [
    "Em seguida determinado o estado termodinâmico inicial."
   ]
  },
  {
   "cell_type": "code",
   "execution_count": 4,
   "id": "4daeaf0e-7369-47df-b591-d69a1a813320",
   "metadata": {},
   "outputs": [],
   "source": [
    "gas.TP = 300.0, ct.one_atm "
   ]
  },
  {
   "cell_type": "markdown",
   "id": "666059e3-a6e2-4111-9006-980e3daefcf9",
   "metadata": {},
   "source": [
    "Após isso declaramos o combustível e o oxidante, bem como estabelecemos o *equivalente ratio*."
   ]
  },
  {
   "cell_type": "code",
   "execution_count": 5,
   "id": "a3b25f2a-958d-4821-aece-1a42c27cd221",
   "metadata": {},
   "outputs": [],
   "source": [
    "gas.set_equivalence_ratio(\n",
    "    equiv_ratio, \n",
    "    'CH4:1.0', \n",
    "    'O2:1.0, N2:3.76'\n",
    ")"
   ]
  },
  {
   "cell_type": "markdown",
   "id": "e69ae5e5-2925-413c-a830-87f7ec962cd9",
   "metadata": {},
   "source": [
    "Para o modelo de combustão, geralmente são utilizados três reservatórios.\n",
    "1. Um reservatório de injeção que controla a mistura;\n",
    "2. Um reservatório reator;\n",
    "3. Um reservatório de exaustão.\n",
    "\n",
    "Para criar o primeiro desses reservatórios faz-se:"
   ]
  },
  {
   "cell_type": "code",
   "execution_count": 6,
   "id": "ff5e9191-5842-4b4b-b2d7-e57d75859db5",
   "metadata": {},
   "outputs": [],
   "source": [
    "res_inj = ct.Reservoir(gas)"
   ]
  },
  {
   "cell_type": "markdown",
   "id": "ba0fbaac-7e20-4f96-9baf-84a6d859f142",
   "metadata": {},
   "source": [
    "Para a criação do reator, primeiro deve-se selecionar as variáveis utilizadas para a verificação do equilíbrio termodinâmico do ambiente, na combustão geralmente esta condição é avaliada pela entalpia da mistura e sua pressão total. "
   ]
  },
  {
   "cell_type": "code",
   "execution_count": 7,
   "id": "855ab90d-2ed8-40ce-a860-586e5134d85c",
   "metadata": {},
   "outputs": [],
   "source": [
    "gas.equilibrate('HP')"
   ]
  },
  {
   "cell_type": "markdown",
   "id": "6af6a1a8-ecc7-4977-b487-c7a20ef58788",
   "metadata": {},
   "source": [
    "Em seguida cria-se o reator. Aqui trataremos a mistura como um gás ideal, por isso criaremos um reator deste tipo, já selecionando seu volume."
   ]
  },
  {
   "cell_type": "code",
   "execution_count": 8,
   "id": "ebb376a1-5ea2-4850-b01d-67b585bf9778",
   "metadata": {},
   "outputs": [],
   "source": [
    "res_reator = ct.IdealGasReactor(gas)\n",
    "res_reator.volume = 1.0 # m³"
   ]
  },
  {
   "cell_type": "markdown",
   "id": "1875dfeb-7536-4790-bb55-ec1800d8c6a0",
   "metadata": {},
   "source": [
    "Cria-se o reservatório de exaustão, semelhante ao de injeção. "
   ]
  },
  {
   "cell_type": "code",
   "execution_count": 9,
   "id": "8b99dc17-dc9e-4c08-9811-2f787699a4de",
   "metadata": {},
   "outputs": [],
   "source": [
    "res_ex = ct.Reservoir(gas)"
   ]
  },
  {
   "cell_type": "markdown",
   "id": "5b79519d-c045-42f9-8627-6c8c66860a54",
   "metadata": {},
   "source": [
    "A taxa de injeção no reator é determinada pelo fluxo de massa $\\dot m$ de combustível no ambiente que promove a reação. Para o cantera esta taxa é modelada como uma função anônima."
   ]
  },
  {
   "cell_type": "code",
   "execution_count": 11,
   "id": "a819ddb4-b16c-49ee-bc79-8d49f79de206",
   "metadata": {},
   "outputs": [],
   "source": [
    "mdot = lambda t: res_reator.mass / tmp_residence"
   ]
  },
  {
   "cell_type": "markdown",
   "id": "0b160607-bc7e-4081-8218-73ceffff6c43",
   "metadata": {},
   "source": [
    "O cantera controla o fluxo de massa utilizando a classe `MassFlowController`. "
   ]
  },
  {
   "cell_type": "code",
   "execution_count": 14,
   "id": "13964579-8331-4e81-86b7-44646464ad65",
   "metadata": {},
   "outputs": [],
   "source": [
    "in_mass_flux = ct.MassFlowController(res_inj, res_reator, mdot=mdot)"
   ]
  },
  {
   "cell_type": "markdown",
   "id": "3051d516-8c44-4f3e-b62f-0129172810da",
   "metadata": {},
   "source": [
    "Já a saída de gás do combustor é determinado pela condição de equilíbrio de pressão no interior do reator."
   ]
  },
  {
   "cell_type": "code",
   "execution_count": 15,
   "id": "1aec14e6-1bc7-469d-88bb-09fd819c2953",
   "metadata": {},
   "outputs": [],
   "source": [
    "ex_mass_flux = ct.PressureController(res_reator, res_ex, master=in_mass_flux, K=0.01)"
   ]
  },
  {
   "cell_type": "markdown",
   "id": "27cb6656-4cc3-4ed6-b833-81269d841e0c",
   "metadata": {},
   "source": [
    "A simulação é conduzida pela criado-se um sistema de reação chamado `Reactor Network`, que pode conter um ou mais reatores diferentes interligados."
   ]
  },
  {
   "cell_type": "code",
   "execution_count": 17,
   "id": "b278d2e0-4dc3-49ee-bf6c-a6c4fe318ca7",
   "metadata": {},
   "outputs": [],
   "source": [
    "simulation = ct.ReactorNet([res_reator])\n",
    "states = ct.SolutionArray(gas, extra=['tres'])"
   ]
  },
  {
   "cell_type": "markdown",
   "id": "634a9ebd-441f-4c92-89c5-9b0d937d248b",
   "metadata": {},
   "source": [
    "O processo de simulação é totalmente iterativo, aqui faremos 500 iterações."
   ]
  },
  {
   "cell_type": "code",
   "execution_count": 25,
   "id": "e8cfae77-4114-4295-8497-5e6f09bf3d30",
   "metadata": {},
   "outputs": [],
   "source": [
    "while res_reator.T > 500:\n",
    "    simulation.set_initial_time(0.0)\n",
    "    simulation.advance_to_steady_state()\n",
    "    states.append(res_reator.thermo.state, tres=tmp_residence)\n",
    "    tmp_residence *= 0.9"
   ]
  },
  {
   "cell_type": "code",
   "execution_count": 27,
   "id": "68e0955e-c2b3-4879-9a15-58eb984bce63",
   "metadata": {},
   "outputs": [
    {
     "data": {
      "image/png": "[encoded data removed]",
      "text/plain": [
       "<Figure size 640x480 with 2 Axes>"
      ]
     },
     "metadata": {},
     "output_type": "display_data"
    }
   ],
   "source": [
    "import matplotlib.pyplot as plt\n",
    "fig, ax1 = plt.subplots(1, 1)\n",
    "ax1.plot(states.tres, states.heat_release_rate, '.-', color='C0')\n",
    "ax2 = ax1.twinx()\n",
    "ax2.plot(states.tres[:-1], states.T[:-1], '.-', color='C1')\n",
    "ax1.set_xlabel('Tempo de residência [s]')\n",
    "ax1.set_ylabel('Potência [W/m$^3$]', color='C0')\n",
    "ax2.set_ylabel('Temperatura [K]', color='C1')\n",
    "fig.tight_layout()\n",
    "plt.show()"
   ]
  },
  {
   "cell_type": "code",
   "execution_count": null,
   "id": "91f2edfa-043c-4af7-9b30-5b2cc7aa62d9",
   "metadata": {},
   "outputs": [],
   "source": []
  }
 ],
 "metadata": {
  "kernelspec": {
   "display_name": "Python 3 (ipykernel)",
   "language": "python",
   "name": "python3"
  },
  "language_info": {
   "codemirror_mode": {
    "name": "ipython",
    "version": 3
   },
   "file_extension": ".py",
   "mimetype": "text/x-python",
   "name": "python",
   "nbconvert_exporter": "python",
   "pygments_lexer": "ipython3",
   "version": "3.10.9"
  }
 },
 "nbformat": 4,
 "nbformat_minor": 5
}
