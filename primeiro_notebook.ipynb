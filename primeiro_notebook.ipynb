{
 "cells": [
  {
   "cell_type": "markdown",
   "id": "745dd7dd-f1b4-4df0-80d7-e6003ff10e0f",
   "metadata": {},
   "source": [
    "# Instruções de uso do JupyterLab\n",
    "## Cursos de Verão IFMG-Arcos 2023\n",
    "### Rotinas computacionais aplicadas às Ciências Térmicas\n",
    "#### Autor: Reginaldo Gonçalves Leão Junior"
   ]
  }
 ],
 "metadata": {
  "kernelspec": {
   "display_name": "Python 3 (ipykernel)",
   "language": "python",
   "name": "python3"
  },
  "language_info": {
   "codemirror_mode": {
    "name": "ipython",
    "version": 3
   },
   "file_extension": ".py",
   "mimetype": "text/x-python",
   "name": "python",
   "nbconvert_exporter": "python",
   "pygments_lexer": "ipython3",
   "version": "3.9.16"
  }
 },
 "nbformat": 4,
 "nbformat_minor": 5
}
