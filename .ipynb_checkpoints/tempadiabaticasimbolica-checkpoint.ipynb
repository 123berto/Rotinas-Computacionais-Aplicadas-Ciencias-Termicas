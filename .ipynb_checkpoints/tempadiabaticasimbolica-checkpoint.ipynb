{
 "cells": [
  {
   "cell_type": "markdown",
   "id": "d9ed9537-130f-4eba-b442-1036622ce750",
   "metadata": {},
   "source": [
    "# Determinação simbólica da temperatura adiabática de chama da queima completa do metano."
   ]
  },
  {
   "cell_type": "markdown",
   "id": "1833b1d5-0793-43e8-9ce7-ebd2c73d414c",
   "metadata": {},
   "source": [
    "A reação de combustão completa do metano em uma etapa pode ser escrita como:\n",
    "\n",
    "$$\n",
    "{CH_4}_g + 2 {O_2}_g \\rightarrow {CO_2}_g + 2{H_2 O}_g\n",
    "$$"
   ]
  },
  {
   "cell_type": "markdown",
   "id": "899d3918-a761-4b21-b489-d8f8300869b0",
   "metadata": {},
   "source": [
    "Para o estudo serão utilizadas polinomiais da NASA (NASA-Pols) parametrizadas pelo GRI-Mech 3.0 e equações de estado descritas na literatura."
   ]
  },
  {
   "cell_type": "markdown",
   "id": "6866eadd-03dd-4981-8222-cdaa983c9863",
   "metadata": {},
   "source": [
    "## Abordagem NASA-Pols\n",
    "\n",
    "A função `nasa_pols()`, vide implementação abaixo, pode ser utilizada para a obtenção das propriedades termodinâmicas do gás estudado. Para isto, basta que seja informado o composto,  a temperatura absoluta e a propriedade desejada. "
   ]
  },
  {
   "cell_type": "code",
   "execution_count": 1,
   "id": "9e0b0aa5-acf5-419a-9082-b0a59b9317da",
   "metadata": {},
   "outputs": [],
   "source": [
    "def nasa_pols(composto, temperatura, propriedade = 'cp', obt_coefs = False):\n",
    "    \"\"\"\n",
    "        Recebe uma de temperatura em K e uma string com cp, s ou h para determinação do propriedade a ser calculada. \n",
    "    \"\"\"\n",
    "    def parse_thermo(arquivo=\"thermo30.dat\"):\n",
    "        \"\"\"\n",
    "            Recebe o endereço de um arquivo de coeficientes polinomiais da nasa\n",
    "            formato como o thermo30.dat e retonra um dicionário com os coeficientes\n",
    "            organizados por chaves que são strings representativas do composto em \n",
    "            questão. \n",
    "        \"\"\"\n",
    "        coefs = {}\n",
    "        with open(arquivo, 'r') as th_file:\n",
    "            dados = th_file.readlines()\n",
    "        dados = dados[5:-1]\n",
    "        for i, k in enumerate(dados[::4]): \n",
    "            k = k.split()\n",
    "            coefs[k[0]] = []\n",
    "            for j in range(1,4):\n",
    "                val = dados[(i*4)+j][:-2].split()\n",
    "                val = [float(d.strip().removeprefix(\"'\").removesuffix(\"'\")) for d in val ]\n",
    "                for m in val:\n",
    "                    coefs[k[0]].append(m)\n",
    "\n",
    "        return coefs\n",
    "    coefs = parse_thermo()\n",
    "    \n",
    "    R_NIST = 8.31446261 # J mol-1 K-1\n",
    "    if temperatura > 1000:\n",
    "        index_t = 7\n",
    "    else:\n",
    "        index_t = 0\n",
    "    if propriedade.lower() == \"cp\":\n",
    "        cp = R_NIST * (\n",
    "            coefs[composto][0 + index_t] +\\\n",
    "            coefs[composto][1 + index_t] * temperatura +\\\n",
    "            coefs[composto][2 + index_t] * temperatura ** 2 +\\\n",
    "            coefs[composto][3 + index_t] * temperatura ** 3 +\\\n",
    "            coefs[composto][4 + index_t] * temperatura ** 4\n",
    "        )\n",
    "        if obt_coefs:\n",
    "            return cp, coefs[composto][0 + index_t:7 + index_t]\n",
    "        else:\n",
    "            return cp\n",
    "    elif propriedade.lower() == 'h':\n",
    "        h = R_NIST * (\n",
    "            coefs[composto][0 + index_t] * temperatura +\\\n",
    "            coefs[composto][1 + index_t] * temperatura**2 / 2 +\\\n",
    "            coefs[composto][2 + index_t] * temperatura ** 3 / 3 +\\\n",
    "            coefs[composto][3 + index_t] * temperatura ** 4 / 4 +\\\n",
    "            coefs[composto][4 + index_t] * temperatura ** 5 / 5 +\\\n",
    "            coefs[composto][5 + index_t] \n",
    "        )\n",
    "        if obt_coefs:\n",
    "            return h, coefs[composto][0 + index_t:7 + index_t]\n",
    "        else:\n",
    "            return h\n",
    "    elif propriedade.lower() == 's':\n",
    "        s = R_NIST * ( \n",
    "            coefs[composto][0 + index_t] * np.log(temperatura) +\\\n",
    "            coefs[composto][1 + index_t] * temperatura / 1 +\\\n",
    "            coefs[composto][2 + index_t] * temperatura ** 2 / 2 +\\\n",
    "            coefs[composto][3 + index_t] * temperatura ** 3 / 3 +\\\n",
    "            coefs[composto][4 + index_t] * temperatura ** 4 / 4 +\\\n",
    "            coefs[composto][6 + index_t]\n",
    "        ) \n",
    "        if obt_coefs:\n",
    "            return s, coefs[composto][0 + index_t:7 + index_t]\n",
    "        else:\n",
    "            return s"
   ]
  },
  {
   "cell_type": "markdown",
   "id": "977cb7c2-938b-48e1-b5c0-fa95176a0a4c",
   "metadata": {},
   "source": [
    "Na listagem abaixo, são exibidas as entalpias de todos os compostos participantes da reação à 298K e 1 atm. "
   ]
  },
  {
   "cell_type": "code",
   "execution_count": 2,
   "id": "33078958-8ae7-44d5-9f4f-86d67cdcc25b",
   "metadata": {},
   "outputs": [
    {
     "name": "stdout",
     "output_type": "stream",
     "text": [
      "\t Metano: -73991.42731811253\n",
      " \t Oxigênio molecular: -416.915217212816\n",
      " \t Dióxido de Carbono: -73991.42731811253\n",
      " \t Metano: -241157.56806579238\n"
     ]
    }
   ],
   "source": [
    "print(\n",
    "    f\"\\t Metano: {nasa_pols('CH4', 298.15, 'h')}\\n\",\n",
    "    f\"\\t Oxigênio molecular: {nasa_pols('O2', 298.15, 'h')}\\n\",\n",
    "    f\"\\t Dióxido de Carbono: {nasa_pols('CH4', 298.15, 'h')}\\n\",\n",
    "    f\"\\t Metano: {nasa_pols('H2O', 298.15, 'h')}\"\n",
    ")"
   ]
  },
  {
   "cell_type": "markdown",
   "id": "19d95d8d-64b7-4c3c-886c-318235d69e0d",
   "metadata": {},
   "source": [
    "Tomando a pressão como constante e igual 101325 Pa, pode-se obter a entalpia dos reagentes no estado de referência com\n",
    "\n",
    "$$\n",
    "h_{ref, r} = \\frac{1}{3}h_{CH_4, ref} + \\frac{2}{3}h_{O_2, ref}\n",
    "$$\n",
    "\n",
    "e a dos produtos como\n",
    "\n",
    "$$\n",
    "h_{ref, p} = \\frac{1}{3}h_{CO_2, ref} + \\frac{2}{3}h_{H_2O, ref}\n",
    "$$"
   ]
  },
  {
   "cell_type": "code",
   "execution_count": 3,
   "id": "d2989bf5-9a75-48a6-8ba2-f12f5a17d0a4",
   "metadata": {},
   "outputs": [
    {
     "data": {
      "text/plain": [
       "-24941.752584179387"
      ]
     },
     "execution_count": 3,
     "metadata": {},
     "output_type": "execute_result"
    }
   ],
   "source": [
    "comps_data = {\n",
    "    \"comps\":[(\"CH4\",1,'r'), (\"O2\",2,'r'), (\"CO2\",1,'p'), (\"H2O\",2,'p')],\n",
    "    \"sum_reag\": 0,\n",
    "    \"sum_prod\": 0\n",
    "}\n",
    "\n",
    "for c in comps_data[\"comps\"]:\n",
    "    h_t, coefs = nasa_pols(c[0], 298.15, 'h', True)\n",
    "    \n",
    "    comps_data[c[0]] = {\n",
    "        \"entalpia\": h_t, \n",
    "        \"coeficientes\": coefs, \n",
    "        \"frac\": c[1]\n",
    "    }\n",
    "    \n",
    "    if c[2] == 'r':\n",
    "        comps_data[\"sum_reag\"]+=c[1]  \n",
    "    else:\n",
    "        comps_data[\"sum_prod\"]+=c[1]\n",
    "        \n",
    "h_ref_r = (\n",
    "    comps_data['CH4'][\"frac\"] / comps_data[\"sum_reag\"] *\\\n",
    "    comps_data['CH4']['entalpia'] +\\\n",
    "    comps_data['O2'][\"frac\"] / comps_data[\"sum_reag\"] *\\\n",
    "    comps_data['O2']['entalpia']\n",
    ")\n",
    "h_ref_p = (\n",
    "    comps_data['CO2'][\"frac\"] / comps_data[\"sum_prod\"] *\\\n",
    "    comps_data['CO2']['entalpia'] +\\\n",
    "    comps_data['H2O'][\"frac\"] / comps_data[\"sum_prod\"]*\\\n",
    "    comps_data['H2O']['entalpia']\n",
    ")\n",
    "h_ref_r"
   ]
  },
  {
   "cell_type": "markdown",
   "id": "8b758ab7-2b35-4d4a-96c9-4f2451389ade",
   "metadata": {},
   "source": [
    "Na equação\n",
    "\n",
    "$$\n",
    "h_{ref, mol, r} + \\int_{T_{ref}}^{T_{adi}} c_{P,r, mol} dT  =  h_{ref, mol, p} + \\int_{T_{ref}}^{T_{adi}} c_{P,p, mol} dT\n",
    "$$\n",
    "\n",
    "as integrais $\\int_{T_{ref}}^{T_{adi}} c_{P,r, mol} dT$ e $\\int_{T_{ref}}^{T_{adi}} c_{P,p, mol} dT$, podem ser respectivamente avaliadas como a variação da entalpia desde a temperatura de referência até a temperatura adiabática da chama.\n",
    "\n",
    "Considerando a capacidade térmica à pressão constante dada por:\n",
    "\n",
    "\\begin{equation}\n",
    "\\label{Eq:polnasaCp}\n",
    "c_P = R \\left( a_1 + a_2 T + a_3 T^2 + a_4 T^3 + a_5 T^4 \\right)\n",
    "\\end{equation}\n",
    "\n",
    "Então a integral de $c_{P, mol}$ pode ser escrita como:"
   ]
  },
  {
   "cell_type": "code",
   "execution_count": 4,
   "id": "937d8905-b152-4f38-9fe1-628b74439e85",
   "metadata": {},
   "outputs": [
    {
     "name": "stdout",
     "output_type": "stream",
     "text": [
      "1.662892522 T^{5} a_{5} + 2.0786156525 T^{4} a_{4} + 2.77148753666667 T^{3} a_{3} + 4.157231305 T^{2} a_{2} + 8.31446261 T a_{1}\n"
     ]
    }
   ],
   "source": [
    "import sympy as sym\n",
    "R = 8.31446261\n",
    "a1, a2, a3, a4, a5, T, cpr, cpp = sym.symbols(\"a1, a2, a3, a4, a5, T, cpr, cpp\")\n",
    "cpr = R*sym.integrate(a1 + a2*T + a3*T**2 + a4*T**3 + a5*T**4 , T)#(T, 298, T))\n",
    "print(sym.latex(cpr))"
   ]
  },
  {
   "cell_type": "markdown",
   "id": "23953bda-5c44-47ba-bf74-1ae2eee71dac",
   "metadata": {},
   "source": [
    "$$\n",
    "1.662892522 T^{5} a_{5} + 2.0786156525 T^{4} a_{4} + 2.77148753666667 T^{3} a_{3} + 4.157231305 T^{2} a_{2} + 8.31446261 T a_{1} - 2477.70985778 a_{1} - 369178.76880922 a_{2} - 73343515.4034317 a_{3} - 16392275692.667 a_{4} - 3907918525131.81 a_{5}\n",
    "$$"
   ]
  },
  {
   "cell_type": "markdown",
   "id": "84e5a9dc-1003-4e79-9821-86c61a21e548",
   "metadata": {},
   "source": [
    "A solução geral anterior quando aplicada a cada um dos componentes leva a determinação da temperatura adiabática da solução da equação: \n",
    "\n",
    "$$\n",
    "h_{ref, mol, r} + \\int_{T_{ref}}^{T_{adi}} c_{P,r, mol} dT  -  h_{ref, mol, p} - \\int_{T_{ref}}^{T_{adi}} c_{P,p, mol} dT = 0\n",
    "$$"
   ]
  },
  {
   "cell_type": "code",
   "execution_count": 5,
   "id": "f9d4f4ea-ae74-4e70-a9f8-8f62d8038a61",
   "metadata": {},
   "outputs": [
    {
     "data": {
      "text/plain": [
       "[8682.62987558549,\n",
       " -2396.40473067168 - 3463.72732687273*I,\n",
       " -2396.40473067168 + 3463.72732687273*I,\n",
       " 4288.72529398735 - 5631.87940327541*I,\n",
       " 4288.72529398735 + 5631.87940327541*I]"
      ]
     },
     "execution_count": 5,
     "metadata": {},
     "output_type": "execute_result"
    }
   ],
   "source": [
    "dh = 0#h_ref_r -  h_ref_p\n",
    "R = 8.31446261\n",
    "T, cp = sym.symbols(\"T, cp\")\n",
    "for c in comps_data[\"comps\"]:\n",
    "    a1, a2, a3, a4, a5, a6 = comps_data[c[0]][\"coeficientes\"][0:6]\n",
    "    if c[-1] == 'r':\n",
    "        dh += sym.integrate(\n",
    "            (a1 + a2*T + a3*T**2 + a4*T**3 + a5*T**4), \n",
    "            (T, 298.15, T)\n",
    "        ) * R * comps_data[c[0]][\"frac\"]/comps_data[\"sum_reag\"] + comps_data[c[0]][\"entalpia\"]\n",
    "    else:\n",
    "        dh -= sym.integrate(\n",
    "            (a1 + a2*T + a3*T**2 + a4*T**3 + a5*T**4), \n",
    "            (T, 298.15, T)\n",
    "        ) * R * comps_data[c[0]][\"frac\"]/comps_data[\"sum_prod\"] + comps_data[c[0]][\"entalpia\"]\n",
    "sym.solve(dh, T)"
   ]
  },
  {
   "cell_type": "code",
   "execution_count": 6,
   "id": "d231c725-f716-4658-9bab-a0c2fc76bcea",
   "metadata": {},
   "outputs": [
    {
     "data": {
      "text/latex": [
       "$\\displaystyle 8628.72681690189$"
      ],
      "text/plain": [
       "8628.72681690189"
      ]
     },
     "execution_count": 6,
     "metadata": {},
     "output_type": "execute_result"
    }
   ],
   "source": [
    "import numpy as np\n",
    "dh = h_ref_r -  h_ref_p\n",
    "R = 8.31446261\n",
    "T, cp = sym.symbols(\"T, cp\")\n",
    "for c in comps_data[\"comps\"]:\n",
    "    a1, a2, a3, a4, a5, a6 = comps_data[c[0]][\"coeficientes\"][0:6]\n",
    "    nasa_h_pol = (\n",
    "            a1 * T + a2 * T **2 / 2 + a3 * T ** 3 / 3 + a4 * T ** 4 / 4 + a5 * T ** 5 / 5 + a6\n",
    "        ) * R\n",
    "    if c[-1] == 'r':\n",
    "        dh +=   nasa_h_pol * comps_data[c[0]][\"frac\"]/comps_data[\"sum_reag\"]\n",
    "    else:\n",
    "        dh += - nasa_h_pol * comps_data[c[0]][\"frac\"]/comps_data[\"sum_prod\"]\n",
    "sym.solve(dh, T)[0]"
   ]
  },
  {
   "cell_type": "code",
   "execution_count": 7,
   "id": "652f7b50-0b14-4c70-b614-0515a8ac5912",
   "metadata": {},
   "outputs": [
    {
     "data": {
      "text/plain": [
       "{'comps': [('CH4', 1, 'r'), ('O2', 2, 'r'), ('CO2', 1, 'p'), ('H2O', 2, 'p')],\n",
       " 'sum_reag': 3,\n",
       " 'sum_prod': 3,\n",
       " 'CH4': {'entalpia': -73991.42731811253,\n",
       "  'coeficientes': [0.074851495,\n",
       "   0.0133909467,\n",
       "   -5.73285809e-06,\n",
       "   1.22292535e-09,\n",
       "   -1.0181523e-13,\n",
       "   -9468.34459,\n",
       "   18.437318],\n",
       "  'frac': 1},\n",
       " 'O2': {'entalpia': -416.915217212816,\n",
       "  'coeficientes': [3.28253784,\n",
       "   0.00148308754,\n",
       "   -7.57966669e-07,\n",
       "   2.09470555e-10,\n",
       "   -2.16717794e-14,\n",
       "   -1088.45772,\n",
       "   5.45323129],\n",
       "  'frac': 2},\n",
       " 'CO2': {'entalpia': -394366.7256241455,\n",
       "  'coeficientes': [3.85746029,\n",
       "   0.00441437026,\n",
       "   -2.21481404e-06,\n",
       "   5.23490188e-10,\n",
       "   -4.72084164e-14,\n",
       "   -48759.166,\n",
       "   2.27163806],\n",
       "  'frac': 1},\n",
       " 'H2O': {'entalpia': -241157.56806579238,\n",
       "  'coeficientes': [3.03399249,\n",
       "   0.00217691804,\n",
       "   -1.64072518e-07,\n",
       "   -9.7041987e-11,\n",
       "   1.68200992e-14,\n",
       "   -30004.2971,\n",
       "   4.9667701],\n",
       "  'frac': 2}}"
      ]
     },
     "execution_count": 7,
     "metadata": {},
     "output_type": "execute_result"
    }
   ],
   "source": [
    "comps_data"
   ]
  },
  {
   "cell_type": "code",
   "execution_count": null,
   "id": "21dea6ba-f1d4-4e33-bd03-c95d1bb89e95",
   "metadata": {},
   "outputs": [],
   "source": []
  }
 ],
 "metadata": {
  "kernelspec": {
   "display_name": "Python 3 (ipykernel)",
   "language": "python",
   "name": "python3"
  },
  "language_info": {
   "codemirror_mode": {
    "name": "ipython",
    "version": 3
   },
   "file_extension": ".py",
   "mimetype": "text/x-python",
   "name": "python",
   "nbconvert_exporter": "python",
   "pygments_lexer": "ipython3",
   "version": "3.10.6"
  }
 },
 "nbformat": 4,
 "nbformat_minor": 5
}
