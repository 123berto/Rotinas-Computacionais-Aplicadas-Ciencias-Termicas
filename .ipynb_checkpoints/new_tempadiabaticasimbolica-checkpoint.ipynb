{
 "cells": [
  {
   "cell_type": "markdown",
   "id": "d9ed9537-130f-4eba-b442-1036622ce750",
   "metadata": {},
   "source": [
    "# Determinação simbólica da temperatura adiabática de chama da queima completa do metano."
   ]
  },
  {
   "cell_type": "markdown",
   "id": "1833b1d5-0793-43e8-9ce7-ebd2c73d414c",
   "metadata": {},
   "source": [
    "A reação de combustão completa do metano em uma etapa pode ser escrita como:\n",
    "\n",
    "$$\n",
    "{CH_4}_g + 2 {O_2}_g \\rightarrow {CO_2}_g + 2{H_2 O}_g\n",
    "$$"
   ]
  },
  {
   "cell_type": "markdown",
   "id": "899d3918-a761-4b21-b489-d8f8300869b0",
   "metadata": {},
   "source": [
    "Para o estudo serão utilizadas polinomiais da NASA (NASA-Pols) parametrizadas pelo GRI-Mech 3.0 e equações de estado descritas na literatura."
   ]
  },
  {
   "cell_type": "markdown",
   "id": "6866eadd-03dd-4981-8222-cdaa983c9863",
   "metadata": {},
   "source": [
    "## Abordagem NASA-Pols\n",
    "\n",
    "A função `nasa_pols()`, vide implementação abaixo, pode ser utilizada para a obtenção das propriedades termodinâmicas do gás estudado. Para isto, basta que seja informado o composto,  a temperatura absoluta e a propriedade desejada. "
   ]
  },
  {
   "cell_type": "code",
   "execution_count": 1,
   "id": "9e0b0aa5-acf5-419a-9082-b0a59b9317da",
   "metadata": {},
   "outputs": [],
   "source": [
    "def nasa_pols(composto, temperatura, propriedade = 'cp', obt_coefs = False):\n",
    "    \"\"\"\n",
    "        Recebe uma de temperatura em K e uma string com cp, s ou h para determinação do propriedade a ser calculada. \n",
    "    \"\"\"\n",
    "    def parse_thermo(arquivo=\"thermo30.dat\"):\n",
    "        \"\"\"\n",
    "            Recebe o endereço de um arquivo de coeficientes polinomiais da nasa\n",
    "            formato como o thermo30.dat e retonra um dicionário com os coeficientes\n",
    "            organizados por chaves que são strings representativas do composto em \n",
    "            questão. \n",
    "        \"\"\"\n",
    "        coefs = {}\n",
    "        with open(arquivo, 'r') as th_file:\n",
    "            dados = th_file.readlines()\n",
    "        dados = dados[5:-1]\n",
    "        for i, k in enumerate(dados[::4]): \n",
    "            k = k.split()\n",
    "            coefs[k[0]] = []\n",
    "            for j in range(1,4):\n",
    "                val = dados[(i*4)+j][:-2].split()\n",
    "                val = [float(d.strip().removeprefix(\"'\").removesuffix(\"'\")) for d in val ]\n",
    "                for m in val:\n",
    "                    coefs[k[0]].append(m)\n",
    "\n",
    "        return coefs\n",
    "    coefs = parse_thermo()\n",
    "    \n",
    "    R_NIST = 8.31446261 # J mol-1 K-1\n",
    "    if temperatura > 1000:\n",
    "        index_t = 7\n",
    "    else:\n",
    "        index_t = 0\n",
    "    if propriedade.lower() == \"cp\":\n",
    "        cp = R_NIST * (\n",
    "            coefs[composto][0 + index_t] +\\\n",
    "            coefs[composto][1 + index_t] * temperatura +\\\n",
    "            coefs[composto][2 + index_t] * temperatura ** 2 +\\\n",
    "            coefs[composto][3 + index_t] * temperatura ** 3 +\\\n",
    "            coefs[composto][4 + index_t] * temperatura ** 4\n",
    "        )\n",
    "        if obt_coefs:\n",
    "            return cp, coefs[composto][0 + index_t:7 + index_t]\n",
    "        else:\n",
    "            return cp\n",
    "    elif propriedade.lower() == 'h':\n",
    "        h = R_NIST * (\n",
    "            coefs[composto][0 + index_t] * temperatura +\\\n",
    "            coefs[composto][1 + index_t] * temperatura**2 / 2 +\\\n",
    "            coefs[composto][2 + index_t] * temperatura ** 3 / 3 +\\\n",
    "            coefs[composto][3 + index_t] * temperatura ** 4 / 4 +\\\n",
    "            coefs[composto][4 + index_t] * temperatura ** 5 / 5 +\\\n",
    "            coefs[composto][5 + index_t] \n",
    "        )\n",
    "        if obt_coefs:\n",
    "            return h, coefs[composto][0 + index_t:7 + index_t]\n",
    "        else:\n",
    "            return h\n",
    "    elif propriedade.lower() == 's':\n",
    "        s = R_NIST * ( \n",
    "            coefs[composto][0 + index_t] * np.log(temperatura) +\\\n",
    "            coefs[composto][1 + index_t] * temperatura / 1 +\\\n",
    "            coefs[composto][2 + index_t] * temperatura ** 2 / 2 +\\\n",
    "            coefs[composto][3 + index_t] * temperatura ** 3 / 3 +\\\n",
    "            coefs[composto][4 + index_t] * temperatura ** 4 / 4 +\\\n",
    "            coefs[composto][6 + index_t]\n",
    "        ) \n",
    "        if obt_coefs:\n",
    "            return s, coefs[composto][0 + index_t:7 + index_t]\n",
    "        else:\n",
    "            return s"
   ]
  },
  {
   "cell_type": "markdown",
   "id": "977cb7c2-938b-48e1-b5c0-fa95176a0a4c",
   "metadata": {},
   "source": [
    "Na listagem abaixo, são exibidas as entalpias de todos os compostos participantes da reação à 298,15K e 1 atm. "
   ]
  },
  {
   "cell_type": "code",
   "execution_count": 2,
   "id": "33078958-8ae7-44d5-9f4f-86d67cdcc25b",
   "metadata": {},
   "outputs": [
    {
     "name": "stdout",
     "output_type": "stream",
     "text": [
      "\t Metano: -73991.42731811253\n",
      " \t Oxigênio molecular: -416.915217212816\n",
      " \t Dióxido de Carbono: -73991.42731811253\n",
      " \t Metano: -241157.56806579238\n"
     ]
    }
   ],
   "source": [
    "print(\n",
    "    f\"\\t Metano: {nasa_pols('CH4', 298.15, 'h')}\\n\",\n",
    "    f\"\\t Oxigênio molecular: {nasa_pols('O2', 298.15, 'h')}\\n\",\n",
    "    f\"\\t Dióxido de Carbono: {nasa_pols('CH4', 298.15, 'h')}\\n\",\n",
    "    f\"\\t Metano: {nasa_pols('H2O', 298.15, 'h')}\"\n",
    ")"
   ]
  },
  {
   "cell_type": "markdown",
   "id": "19d95d8d-64b7-4c3c-886c-318235d69e0d",
   "metadata": {},
   "source": [
    "Tomando a pressão como constante e igual 101325 Pa, pode-se obter a entalpia dos reagentes no estado de referência com\n",
    "\n",
    "$$\n",
    "h_{ref, r} = \\frac{1}{3}h_{CH_4, ref} + \\frac{2}{3}h_{O_2, ref}\n",
    "$$\n",
    "\n",
    "e a dos produtos como\n",
    "\n",
    "$$\n",
    "h_{ref, p} = \\frac{1}{3}h_{CO_2, ref} + \\frac{2}{3}h_{H_2O, ref}\n",
    "$$"
   ]
  },
  {
   "cell_type": "code",
   "execution_count": 3,
   "id": "d2989bf5-9a75-48a6-8ba2-f12f5a17d0a4",
   "metadata": {},
   "outputs": [],
   "source": [
    "comps_data = {\n",
    "    \"comps\":[\n",
    "        (\"CH4\",1, 14.0266,'r'), \n",
    "        (\"O2\",2, 15.999,'r'), \n",
    "        (\"CO2\",1, 44.01,'p'), \n",
    "        (\"H2O\",2, 18.01528,'p')\n",
    "    ],\n",
    "    \"sum_reag\": 0,\n",
    "    \"sum_prod\": 0\n",
    "}\n",
    "\n",
    "for c in comps_data[\"comps\"]:\n",
    "    h_t, coefs = nasa_pols(c[0], 298.15, 'h', True)\n",
    "    \n",
    "    comps_data[c[0]] = {\n",
    "        \"entalpia\": h_t, \n",
    "        \"coeficientes\": coefs, \n",
    "        \"frac\": c[1],\n",
    "        \"massamolar\": c[2]\n",
    "    }\n",
    "    \n",
    "    if c[-1] == 'r':\n",
    "        comps_data[\"sum_reag\"]+=c[1]  \n",
    "    else:\n",
    "        comps_data[\"sum_prod\"]+=c[1]"
   ]
  },
  {
   "cell_type": "markdown",
   "id": "8b758ab7-2b35-4d4a-96c9-4f2451389ade",
   "metadata": {},
   "source": [
    "Na equação\n",
    "\n",
    "$$\n",
    "h_{ref, mol, r} + \\int_{T_{ref}}^{T_{adi}} c_{P,r, mol} dT  =  h_{ref, mol, p} + \\int_{T_{ref}}^{T_{adi}} c_{P,p, mol} dT\n",
    "$$\n",
    "\n",
    "as integrais $\\int_{T_{ref}}^{T_{adi}} c_{P,r, mol} dT$ e $\\int_{T_{ref}}^{T_{adi}} c_{P,p, mol} dT$, podem ser respectivamente avaliadas como a variação da entalpia desde a temperatura de referência até a temperatura adiabática da chama.\n",
    "\n",
    "Considerando a capacidade térmica à pressão constante dada por:\n",
    "\n",
    "\\begin{equation}\n",
    "\\label{Eq:polnasaCp}\n",
    "c_P = R \\left( a_1 + a_2 T + a_3 T^2 + a_4 T^3 + a_5 T^4 \\right)\n",
    "\\end{equation}\n",
    "\n",
    "Então a integral de $c_{P, mol}$ pode ser escrita como:"
   ]
  },
  {
   "cell_type": "code",
   "execution_count": 4,
   "id": "937d8905-b152-4f38-9fe1-628b74439e85",
   "metadata": {},
   "outputs": [
    {
     "data": {
      "text/latex": [
       "$\\displaystyle R \\left(\\frac{T^{5} a_{5}}{5} + \\frac{T^{4} a_{4}}{4} + \\frac{T^{3} a_{3}}{3} + \\frac{T^{2} a_{2}}{2} + T a_{1} - 298.15 a_{1} - 44446.71125 a_{2} - 8834524.63945833 a_{3} - 1975510140.94088 a_{4} - 471198678817.218 a_{5}\\right)$"
      ],
      "text/plain": [
       "R*(T**5*a5/5 + T**4*a4/4 + T**3*a3/3 + T**2*a2/2 + T*a1 - 298.15*a1 - 44446.71125*a2 - 8834524.63945833*a3 - 1975510140.94088*a4 - 471198678817.218*a5)"
      ]
     },
     "execution_count": 4,
     "metadata": {},
     "output_type": "execute_result"
    }
   ],
   "source": [
    "import sympy as sym\n",
    "*coefs, T, R = sym.symbols(\"a1, a2, a3, a4, a5, a6, T, R\")\n",
    "cp_pol = coefs[0] + coefs[1]*T + coefs[2]*T**2 + coefs[3]*T**3 + coefs[4]*T**4\n",
    "int_cp = R*sym.integrate(cp_pol, (T, 298.15, T))\n",
    "int_cp\n",
    "#print(sym.latex(int_cp))"
   ]
  },
  {
   "cell_type": "markdown",
   "id": "84e5a9dc-1003-4e79-9821-86c61a21e548",
   "metadata": {},
   "source": [
    "A solução geral anterior quando aplicada a cada um dos componentes leva a determinação da temperatura adiabática da solução da equação: \n",
    "\n",
    "$$\n",
    "h_{ref, mol, r} + \\int_{T_{ref}}^{T_{adi}} c_{P,r, mol} dT  -  h_{ref, mol, p} - \\int_{T_{ref}}^{T_{adi}} c_{P,p, mol} dT = 0\n",
    "$$\n",
    "\n",
    "A determinação de $h_{ref, mol, r}$ e $h_{ref, mol, p}$ por sua vez se dá diretamente pela polinomial equivalente. "
   ]
  },
  {
   "cell_type": "code",
   "execution_count": 5,
   "id": "5e319107-1af3-4887-b74b-9288159126c0",
   "metadata": {},
   "outputs": [
    {
     "data": {
      "text/latex": [
       "$\\displaystyle R \\left(\\frac{T^{5} a_{5}}{5} + \\frac{T^{4} a_{4}}{4} + \\frac{T^{3} a_{3}}{3} + \\frac{T^{2} a_{2}}{2} + T a_{1} + a_{6}\\right)$"
      ],
      "text/plain": [
       "R*(T**5*a5/5 + T**4*a4/4 + T**3*a3/3 + T**2*a2/2 + T*a1 + a6)"
      ]
     },
     "execution_count": 5,
     "metadata": {},
     "output_type": "execute_result"
    }
   ],
   "source": [
    "nasa_h_pol = R * (\n",
    "    (coefs[0] * T) + (coefs[1] * T **2) / 2 + (coefs[2] * T ** 3) / 3 +\\\n",
    "    (coefs[3] * T ** 4) / 4 + (coefs[4] * T ** 5) / 5 + coefs[5]\n",
    ")\n",
    "nasa_h_pol"
   ]
  },
  {
   "cell_type": "code",
   "execution_count": 6,
   "id": "f9d4f4ea-ae74-4e70-a9f8-8f62d8038a61",
   "metadata": {},
   "outputs": [
    {
     "data": {
      "text/latex": [
       "$\\displaystyle 2.25624882490658 \\cdot 10^{-14} T^{5} - 6.84708912451165 \\cdot 10^{-10} T^{4} + 7.04777938538738 \\cdot 10^{-6} T^{3} - 0.0364514618853475 T^{2} - 82.5247435850164 T + 829520.217603808$"
      ],
      "text/plain": [
       "2.25624882490658e-14*T**5 - 6.84708912451165e-10*T**4 + 7.04777938538738e-6*T**3 - 0.0364514618853475*T**2 - 82.5247435850164*T + 829520.217603808"
      ]
     },
     "execution_count": 6,
     "metadata": {},
     "output_type": "execute_result"
    }
   ],
   "source": [
    "dh = 0\n",
    "for c in comps_data[\"comps\"]:\n",
    "    sub = {R: 8.31446261}\n",
    "    for i, j in zip(coefs, comps_data[c[0]][\"coeficientes\"][0:6]):\n",
    "        sub[i] = j\n",
    "    sub2 = sub.copy()\n",
    "    sub2[T] = 298.15\n",
    "    if c[-1] == 'r':\n",
    "        dh += (\n",
    "            nasa_h_pol.evalf(subs = sub2)#int_cp.evalf(subs = sub) + nasa_h_pol.evalf(subs = sub2)\n",
    "        )*comps_data[c[0]][\"frac\"]#/comps_data[\"sum_reag\"]\n",
    "    else:\n",
    "        dh -= (\n",
    "            int_cp.evalf(subs = sub) + nasa_h_pol.evalf(subs = sub2)\n",
    "        )*comps_data[c[0]][\"frac\"]#/comps_data[\"sum_prod\"]\n",
    "dh"
   ]
  },
  {
   "cell_type": "markdown",
   "id": "207c9bb8-394e-45cc-92ec-286a9fb712ce",
   "metadata": {},
   "source": [
    "O mesmo método para a queima com ar para a equação abaixo ficaria:\n",
    "\n",
    "$$\n",
    "CH_4 + 2 (O_2 + 3.76 N_2) = CO_2 + 2 H_2 O + 7,52 N_2\n",
    "$$"
   ]
  },
  {
   "cell_type": "code",
   "execution_count": 7,
   "id": "50f12f25-213e-481c-a9c5-165d5092a6b5",
   "metadata": {},
   "outputs": [],
   "source": [
    "comps_data = {\n",
    "    \"comps\":[\n",
    "        (\"CH4\",1, 14.0266,'r'), \n",
    "        (\"O2\",2, 15.999,'r'),\n",
    "        (\"N2\",7.56, 14.0067,'r'), \n",
    "        (\"CO2\",1, 44.01,'p'), \n",
    "        (\"H2O\",2, 18.01528,'p'),\n",
    "        (\"N2\",7.56, 14.0067,'p')\n",
    "    ],\n",
    "    \"sum_reag\": 0,\n",
    "    \"sum_prod\": 0\n",
    "}\n",
    "\n",
    "for c in comps_data[\"comps\"]:\n",
    "    h_t, coefs = nasa_pols(c[0], 298.15, 'h', True)\n",
    "    \n",
    "    comps_data[c[0]] = {\n",
    "        \"entalpia\": h_t, \n",
    "        \"coeficientes\": coefs, \n",
    "        \"frac\": c[1],\n",
    "        \"massamolar\": c[2]\n",
    "    }\n",
    "    \n",
    "    if c[-1] == 'r':\n",
    "        comps_data[\"sum_reag\"]+=c[1]  \n",
    "    else:\n",
    "        comps_data[\"sum_prod\"]+=c[1]"
   ]
  },
  {
   "cell_type": "code",
   "execution_count": 8,
   "id": "3e19a6ff-d113-45f7-93a5-64270eeeb366",
   "metadata": {},
   "outputs": [
    {
     "name": "stdout",
     "output_type": "stream",
     "text": [
      "R \\left(\\frac{T^{5} a_{5}}{5} + \\frac{T^{4} a_{4}}{4} + \\frac{T^{3} a_{3}}{3} + \\frac{T^{2} a_{2}}{2} + T a_{1} - 298.15 a_{1} - 44446.71125 a_{2} - 8834524.63945833 a_{3} - 1975510140.94088 a_{4} - 471198678817.218 a_{5}\\right)\n"
     ]
    }
   ],
   "source": [
    "*coefs, T, R = sym.symbols(\"a1, a2, a3, a4, a5, a6, T, R\")\n",
    "cp_pol = coefs[0] + coefs[1]*T + coefs[2]*T**2 + coefs[3]*T**3 + coefs[4]*T**4\n",
    "int_cp_p = R*sym.integrate(cp_pol, (T, 298, T))\n",
    "int_cp_p\n",
    "print(sym.latex(int_cp))"
   ]
  },
  {
   "cell_type": "code",
   "execution_count": 9,
   "id": "8d01a551-e40d-4c4b-bf89-a2ef653e9f6e",
   "metadata": {},
   "outputs": [
    {
     "data": {
      "text/latex": [
       "$\\displaystyle R \\left(\\frac{T^{5} a_{5}}{5} + \\frac{T^{4} a_{4}}{4} + \\frac{T^{3} a_{3}}{3} + \\frac{T^{2} a_{2}}{2} + T a_{1} + a_{6}\\right)$"
      ],
      "text/plain": [
       "R*(T**5*a5/5 + T**4*a4/4 + T**3*a3/3 + T**2*a2/2 + T*a1 + a6)"
      ]
     },
     "execution_count": 9,
     "metadata": {},
     "output_type": "execute_result"
    }
   ],
   "source": [
    "nasa_h_pol = R * (\n",
    "    (coefs[0] * T) + (coefs[1] * T **2) / 2 + (coefs[2] * T ** 3) / 3 +\\\n",
    "    (coefs[3] * T ** 4) / 4 + (coefs[4] * T ** 5) / 5 + coefs[5]\n",
    ")\n",
    "nasa_h_pol"
   ]
  },
  {
   "cell_type": "code",
   "execution_count": 10,
   "id": "5f668f34-e740-4fe3-ba63-b799e72f4987",
   "metadata": {},
   "outputs": [
    {
     "data": {
      "text/latex": [
       "$\\displaystyle 1.07462020634205 \\cdot 10^{-13} T^{5} - 2.27139122149112 \\cdot 10^{-9} T^{4} + 1.89587419510269 \\cdot 10^{-5} T^{3} - 0.0832165917149448 T^{2} - 266.48554131317 T + 888221.8968191$"
      ],
      "text/plain": [
       "1.07462020634205e-13*T**5 - 2.27139122149112e-9*T**4 + 1.89587419510269e-5*T**3 - 0.0832165917149448*T**2 - 266.48554131317*T + 888221.8968191"
      ]
     },
     "execution_count": 10,
     "metadata": {},
     "output_type": "execute_result"
    }
   ],
   "source": [
    "dh2 = 0\n",
    "for c in comps_data[\"comps\"]:\n",
    "    sub = {R: 8.31446261}\n",
    "    for i, j in zip(coefs, comps_data[c[0]][\"coeficientes\"][0:6]):\n",
    "        sub[i] = j\n",
    "    sub2 = sub.copy()\n",
    "    sub2[T] = 298.15\n",
    "    if c[-1] == 'r':\n",
    "        dh2 += (\n",
    "        nasa_h_pol.evalf(subs = sub2)#int_cp.evalf(subs = sub) + nasa_h_pol.evalf(subs = sub2)\n",
    "        )*comps_data[c[0]][\"frac\"]#/comps_data[\"sum_reag\"]\n",
    "    else:\n",
    "        dh2 -= (\n",
    "            int_cp.evalf(subs = sub) + nasa_h_pol.evalf(subs = sub2)\n",
    "        )*comps_data[c[0]][\"frac\"]#/comps_data[\"sum_prod\"]\n",
    "dh2"
   ]
  },
  {
   "cell_type": "code",
   "execution_count": 11,
   "id": "9f639ce4-c0e5-4be9-a4c9-72d28245cec9",
   "metadata": {},
   "outputs": [
    {
     "data": {
      "text/plain": [
       "[-3900.15810185865,\n",
       " 5152.50255117813,\n",
       " 18414.5519384892,\n",
       " 5340.16441683055 - 8416.35622819721*I,\n",
       " 5340.16441683055 + 8416.35622819721*I]"
      ]
     },
     "execution_count": 11,
     "metadata": {},
     "output_type": "execute_result"
    }
   ],
   "source": [
    "sym.solve(dh,T)"
   ]
  },
  {
   "cell_type": "code",
   "execution_count": 12,
   "id": "b14b8d8b-073d-4c38-88a1-112fc6b09991",
   "metadata": {},
   "outputs": [
    {
     "data": {
      "text/plain": [
       "[-3194.47295386672,\n",
       " 2320.52062296047,\n",
       " 12984.6042994691,\n",
       " 4513.01810643139 - 8093.51404905287*I,\n",
       " 4513.01810643139 + 8093.51404905287*I]"
      ]
     },
     "execution_count": 12,
     "metadata": {},
     "output_type": "execute_result"
    }
   ],
   "source": [
    "dh2\n",
    "sym.solve(dh2)"
   ]
  },
  {
   "cell_type": "code",
   "execution_count": null,
   "id": "bf516304-f66d-4aa8-9b0f-fad41d1cd903",
   "metadata": {},
   "outputs": [],
   "source": []
  }
 ],
 "metadata": {
  "kernelspec": {
   "display_name": "Python 3 (ipykernel)",
   "language": "python",
   "name": "python3"
  },
  "language_info": {
   "codemirror_mode": {
    "name": "ipython",
    "version": 3
   },
   "file_extension": ".py",
   "mimetype": "text/x-python",
   "name": "python",
   "nbconvert_exporter": "python",
   "pygments_lexer": "ipython3",
   "version": "3.9.15"
  }
 },
 "nbformat": 4,
 "nbformat_minor": 5
}
