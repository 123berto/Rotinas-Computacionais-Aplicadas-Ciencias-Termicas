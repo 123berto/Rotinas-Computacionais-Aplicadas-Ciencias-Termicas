{
 "cells": [
  {
   "cell_type": "markdown",
   "id": "d06dac48-3654-45de-9da0-8b6c8693802c",
   "metadata": {},
   "source": [
    "# Introdução ao CoolProp\n",
    "## Cursos de Verão IFMG-Arcos 2023\n",
    "### Rotinas computacionais aplicadas às Ciências Térmicas - GESESC\n",
    "#### Autor: *Reginaldo Gonçalves Leão Junior*\n",
    "\n",
    "CoolProp é uma biblioteca escrita em C++ com um *wrapers* para diversas linguagens, inclusive Python, em um ambiente Anaconda compatível ela pode ser instalada utilizando-se:\n",
    "\n",
    "```\n",
    "conda install -c conda-forge coolprop\n",
    "```"
   ]
  },
  {
   "cell_type": "code",
   "execution_count": null,
   "id": "1115a60b-e3df-4106-9463-588fa6aa5f85",
   "metadata": {},
   "outputs": [],
   "source": []
  }
 ],
 "metadata": {
  "kernelspec": {
   "display_name": "Python 3 (ipykernel)",
   "language": "python",
   "name": "python3"
  },
  "language_info": {
   "codemirror_mode": {
    "name": "ipython",
    "version": 3
   },
   "file_extension": ".py",
   "mimetype": "text/x-python",
   "name": "python",
   "nbconvert_exporter": "python",
   "pygments_lexer": "ipython3",
   "version": "3.9.16"
  }
 },
 "nbformat": 4,
 "nbformat_minor": 5
}
