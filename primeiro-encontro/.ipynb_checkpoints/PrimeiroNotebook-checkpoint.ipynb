{
 "cells": [
  {
   "cell_type": "markdown",
   "id": "745dd7dd-f1b4-4df0-80d7-e6003ff10e0f",
   "metadata": {},
   "source": [
    "# Instruções de uso do JupyterLab\n",
    "## Cursos de Verão IFMG-Arcos 2023\n",
    "### Rotinas computacionais aplicadas às Ciências Térmicas - GESESC\n",
    "#### Autor: *Reginaldo Gonçalves Leão Junior*"
   ]
  },
  {
   "cell_type": "markdown",
   "id": "0f7b3c91-0496-4a22-8ae5-ec9b48103461",
   "metadata": {},
   "source": [
    "Esta célular e a anterior são unidades editáveis do tipo *Markdown*, conforme selecionado no \n",
    "*dropdown* na parte superior deste docuento. Dê dois clique rápidos em cada uma dessas células para ver seu código fonte. Para aprender mais sobre a linguagem de marcação *Markdown* siga esse [LINK](https://docs.pipz.com/central-de-ajuda/learning-center/guia-basico-de-markdown#open).\n",
    "\n",
    "Após inpecionar o código fonte, você pode executar a célula de três formas distintas.\n",
    "\n",
    "1. Usando o botão ▶ na parte superior deste documento;\n",
    "2. Com o atalho de teclado Ctrl+Enter;\n",
    "3. Ou para executar e criar uma nova célula logo abaixo com o atalho de teclado Shift+Enter. "
   ]
  },
  {
   "cell_type": "raw",
   "id": "35716933-4d50-4ff6-a6d1-591cafafdbf2",
   "metadata": {},
   "source": [
    "Esta célula, diferentemente das anteriores, não possui formatação alguma, é do tipo RAW e serve apenas para a inserção de texto plano no notebook. "
   ]
  },
  {
   "cell_type": "code",
   "execution_count": null,
   "id": "2fbe1820-28b5-436d-9673-b452d100ebf0",
   "metadata": {},
   "outputs": [],
   "source": [
    "# Já esta célular é do tipo Code,\n",
    "# nela são inseridos os códigos que desejamos executar.\n",
    "# Em nosso curso utilizaremos a linquagem Python, por isso\n",
    "# este texto é inserido no formato de comentário.\n",
    "\n",
    "import numpy as np\n",
    "import matplotlib.pyplot as plt\n",
    "Y = np.arange(-4,4,.005)\n",
    "X = np.zeros((0))\n",
    "for y in Y:\n",
    "    X = np.append(\n",
    "        X,abs(y/2)- 0.09137*y**2 + np.sqrt(1-(abs(abs(y)-2)-1)**2) -3\n",
    "    )\n",
    "  \n",
    "Y1 = np.append(np.arange(-7,-3,.01), np.arange(3,7,.01))\n",
    "X1 = np.zeros((0))\n",
    "\n",
    "for y in Y1:\n",
    "    X1 = np.append(X1, 3*np.sqrt(-(y/7)**2+1))\n",
    "\n",
    "X = np.append(X,X1)\n",
    "Y = np.append(Y, Y1)\n",
    "Y1 = np.append(np.arange(-7.,-4,.01), np.arange(4,7.01,.01))\n",
    "X1 = np.zeros((0))\n",
    "\n",
    "for y in Y1:\n",
    "    X1 = np.append(X1, -3*np.sqrt(-(y/7)**2+1))\n",
    "\n",
    "X = np.append(X,X1)\n",
    "Y = np.append(Y, Y1)\n",
    "Y1 = np.append(np.arange(-1,-.8,.01), np.arange(.8, 1,.01))\n",
    "X1 = np.zeros((0))\n",
    "\n",
    "for y in Y1:\n",
    "    X1 = np.append(X1, 9-8*abs(y))\n",
    "\n",
    "X = np.append(X,X1)\n",
    "Y = np.append(Y, Y1)\n",
    "Y1 = np.arange(-.5,.5,.05)\n",
    "X1 = np.zeros((0))\n",
    "\n",
    "for y in Y1:\n",
    "    X1 = np.append(X1,2)\n",
    "\n",
    "X = np.append(X,X1)\n",
    "Y = np.append(Y, Y1)\n",
    "Y1 = np.append(np.arange(-2.9,-1,.01), np.arange(1, 2.9,.01))\n",
    "X1 = np.zeros((0))\n",
    "\n",
    "for y in Y1:\n",
    "    X1 = np.append(\n",
    "        X1, 1.5 - .5*abs(y) - 1.89736*(np.sqrt(3-y**2+2*abs(y))-2)\n",
    "    )\n",
    "\n",
    "X = np.append(X,X1)\n",
    "Y = np.append(Y, Y1)\n",
    "Y1 = np.append(np.arange(-.7,-.45,.01), np.arange(.45, .7,.01))\n",
    "X1 = np.zeros((0))\n",
    "\n",
    "for y in Y1:\n",
    "    X1 = np.append(X1, 3*abs(y)+.75)\n",
    "\n",
    "X = np.append(X,X1)\n",
    "Y = np.append(Y, Y1)\n",
    "\n",
    "plt.plot(Y,X, 'k.')\n",
    "plt.grid()\n",
    "plt.show()"
   ]
  },
  {
   "cell_type": "markdown",
   "id": "ba795902-2cc4-4e44-84a0-ac59a5c3eac0",
   "metadata": {},
   "source": [
    "As células do tipo *MarkDown* também suportam a formatação matemática LaTeX.\n",
    "\n",
    "$$\n",
    "\\begin{cases}\n",
    "\\nu = {V}\\div{m} \\\\\n",
    "n = {m}\\div{M} \\\\\n",
    "R = {R_u}\\div{M} \\\\\n",
    "PV = n R_u T \\\\\n",
    "P \\nu = R T\n",
    "\\end{cases}\n",
    "$$\n",
    "\n",
    "### Atividade 1\n",
    "Na célula abaixo, represente graficamente as propriedades de um gás ideal (TV) de massa molar igual ao do CO (28,01 g/mol), \n",
    "cujo volume específico varie entre $10^{-3}$ e $10^2$ m³/kg e a temperatura varie entre 0 e 500°C. Use isobáricas de 10kPa, 100kPa, 1MPa e 10 MPa."
   ]
  },
  {
   "cell_type": "code",
   "execution_count": null,
   "id": "e8c3a304-6360-429f-aba4-4396973e4a1d",
   "metadata": {},
   "outputs": [],
   "source": [
    "# Sua solução aqui"
   ]
  },
  {
   "cell_type": "markdown",
   "id": "22550c7a-0e95-4886-b176-8b156f7f78bb",
   "metadata": {},
   "source": [
    "### Vetorização\n",
    "\n",
    "Na solução anterior, foi usado o conceito de vetorização do problema. \n",
    "Neste tipo de abordagem, o método deve ser desenvolvido de forma que as grandezas não sejam pensadas como escalares, mas vetores de escalares. \n",
    "Dessa forma as funções de álgebra linear do NumPy podem ser usadas no lugar de *loops* nativos do Python, o que confere desepenho computacional imensamente superior."
   ]
  },
  {
   "cell_type": "code",
   "execution_count": null,
   "id": "0fc6c80d-2d14-4d60-926b-c83e132d654c",
   "metadata": {},
   "outputs": [],
   "source": []
  }
 ],
 "metadata": {
  "kernelspec": {
   "display_name": "Python 3 (ipykernel)",
   "language": "python",
   "name": "python3"
  },
  "language_info": {
   "codemirror_mode": {
    "name": "ipython",
    "version": 3
   },
   "file_extension": ".py",
   "mimetype": "text/x-python",
   "name": "python",
   "nbconvert_exporter": "python",
   "pygments_lexer": "ipython3",
   "version": "3.10.9"
  }
 },
 "nbformat": 4,
 "nbformat_minor": 5
}
