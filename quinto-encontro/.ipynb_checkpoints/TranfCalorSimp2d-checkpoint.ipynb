{
 "cells": [
  {
   "cell_type": "markdown",
   "id": "b92426dd-b9d6-42b9-aff1-fa10f579ab48",
   "metadata": {},
   "source": [
    "# Resolvendo a equação de tranferência de calor em meio bidimensional.\n",
    "## Cursos de Verão IFMG-Arcos 2023\n",
    "### Rotinas computacionais aplicadas às Ciências Térmicas - GESESC\n",
    "#### Autor: *Reginaldo Gonçalves Leão Junior*\n",
    "\n",
    "Antes de iniciar a execução do notebook instale o seguinte paconte no ambiente `ct-env`.\n",
    "\n",
    "```\n",
    "conda install -c conda-forge ffmpeg\n",
    "```\n",
    "\n",
    "Neste notebook resolveremos a equação de transferência de calor:\n",
    "\n",
    "$$\n",
    "\\frac{\\partial u}{\\partial t} - \\alpha \\nabla u = 0\n",
    "$$\n",
    "\n",
    "Onde $u$ é a função que determina a distribuição de calor sobre uma chapa planla de espessura deprezível em relação ao seu comprimento e largura, logo pode-se resolver o problema em duas dimensões.\n",
    "\n",
    "$$\n",
    "\\frac{\\partial u}{\\partial t} - \\alpha \\left( \\frac{\\partial^2 u}{\\partial x^2}  + \\frac{\\partial^2 u}{\\partial y^2}\\right) = 0\n",
    "$$\n",
    "\n",
    "Resolveremos o problema pelo método de diferenças finitas na forma:\n",
    "\n",
    "$$\n",
    "f'(a) \\approx \\frac{f(a+h) - f(a)}{h}\n",
    "$$\n",
    "\n",
    "Utilizaremos uma malha muito simples para resolver o problema, composta por um retículado de quadrados idênticos ao \n",
    "longo de toda a extensão da placa que será modelada. Conforme a imagem abaixo:\n",
    "\n",
    "![Malha](eixos.png)\n",
    "*(Gerado com Geogebra)*\n",
    "\n",
    "A malha pode ser descrita por:\n",
    "\n",
    "$$\n",
    "\\begin{cases}\n",
    "    x_i = i \\Delta x; \\\\\n",
    "    y_i = i \\Delta y; \\\\\n",
    "    t_k = k \\Delta t; \\\\\n",
    "\\end{cases}\n",
    "$$\n",
    "\n",
    "Para a qual quer-se determinar a função:\n",
    "\n",
    "$$\n",
    "u(x, y, t) = u^k_{i,j}\n",
    "$$\n",
    "\n",
    "Neste caso, temos o sistema numérico descrito por:\n",
    "\n",
    "$$\n",
    "\\frac{u^{k+1}_{i,j} - u^{k}_{i,j}}{\\Delta t} - \\alpha \n",
    "\\left(\n",
    "    \\frac{u^{k}_{i+1,j} - 2 u^{k}_{i,j} + u^{k}_{i-1,j}}{\\Delta x^2} + \n",
    "    \\frac{u^{k}_{i,j+1} - 2 u^{k}_{i,j} + u^{k}_{i,j-1}}{\\Delta y^2}\n",
    "\\right) = 0\n",
    "$$\n",
    "\n",
    "Considerando a mesma solução para a $\\Delta x$ e $\\Delta y$, e utilizando o méto de estêncil para o problema o operador diferencial numérico pode ser escrito na forma:\n",
    "\n",
    "$$\n",
    "u^{k+1}_{i,j} = \\gamma(u^{k}_{i+1,j} + u^{k}_{i-1,j} + u^{k}_{i,j+1} + u^{k}_{i,j-1} - 4u^{k}_{i,j}) + u^{k}_{i,j}\n",
    "$$\n",
    "\n",
    "onde:\n",
    "\n",
    "$$\n",
    "\\gamma = \\alpha \\frac{\\Delta t}{\\Delta x^2}\n",
    "$$\n",
    "\n",
    "e a condição de estabilidade numérica apra os valores de $t$ é dada por:\n",
    "\n",
    "$$\n",
    "\\Delta t \\leq \\frac{\\Delta x^2}{4 \\alpha}\n",
    "$$"
   ]
  },
  {
   "cell_type": "markdown",
   "id": "03e18063-0131-4ed7-8b08-3d8c2b0b0224",
   "metadata": {},
   "source": [
    "Vamos iniciar a implementação do problema pela importação das bibliotecas. Aqui usaremos módulos ligeiramente diferentes dos habituais pois faremos algumas animações. "
   ]
  },
  {
   "cell_type": "code",
   "execution_count": 25,
   "id": "8442d07a-1e87-453e-8bb1-b8dc2eb069ce",
   "metadata": {},
   "outputs": [],
   "source": [
    "import numpy as np\n",
    "import matplotlib.pyplot as plt\n",
    "import matplotlib.animation as animation\n",
    "from matplotlib.animation import FuncAnimation\n",
    "from IPython.display import HTML"
   ]
  },
  {
   "cell_type": "markdown",
   "id": "ab5aee0e-d47f-4f8a-89e8-05fb073f4483",
   "metadata": {},
   "source": [
    "Em seguida definimos os parâmetros do modelo. \n",
    "Neste caso uma chapa quadrada de comprimento 50 unids, 1000 iterações para a solução do problema e condições de contorno dadas por:\n",
    "\n",
    "1. Temperatura superior: 100 ut\n",
    "2. Demais temperaturas: 0 ut\n",
    "\n",
    "Além disso ainda estabeleceremos a temperatura no centro do grid também como nula."
   ]
  },
  {
   "cell_type": "code",
   "execution_count": 2,
   "id": "d4cdc544-536c-4680-98ee-594b1ed8f7fe",
   "metadata": {},
   "outputs": [],
   "source": [
    "comp_chapa = 50\n",
    "max_iter_temp = 1000\n",
    "u_interno = 0.0\n",
    "u_sup = 100.0\n",
    "u_esq = 0.0\n",
    "u_baixo = 0.0\n",
    "u_dir = 0.0"
   ]
  },
  {
   "cell_type": "markdown",
   "id": "249366fa-6088-4820-abdf-5d8e4a5b34b4",
   "metadata": {},
   "source": [
    "Além disso, estabeleceremos um $\\Delta x = \\Delta y$ unitário e um coeficiente de difusão igual a dois."
   ]
  },
  {
   "cell_type": "code",
   "execution_count": 3,
   "id": "c3bef943-73af-41e2-8dba-1c5949d897e3",
   "metadata": {},
   "outputs": [],
   "source": [
    "alpha = 2.0\n",
    "delta_x = 1"
   ]
  },
  {
   "cell_type": "markdown",
   "id": "2e8f9e5f-53b5-40a0-a89e-cde14ef419bc",
   "metadata": {},
   "source": [
    "Agora os parâmetros numéricos podem ser calculados, para o valor de $\\Delta t$ faz-se:"
   ]
  },
  {
   "cell_type": "code",
   "execution_count": 4,
   "id": "003d83a4-35f2-4a6f-80fb-53eb448e7db6",
   "metadata": {},
   "outputs": [],
   "source": [
    "delta_t = (delta_x ** 2)/(4 * alpha)"
   ]
  },
  {
   "cell_type": "markdown",
   "id": "d40ce105-dda4-4eec-975b-5cef78d99f10",
   "metadata": {},
   "source": [
    "E para o valor de $\\gamma$ faz-se:"
   ]
  },
  {
   "cell_type": "code",
   "execution_count": 5,
   "id": "c47f3560-4fb7-423c-a416-5d6893a9ecb5",
   "metadata": {},
   "outputs": [],
   "source": [
    "gamma = (alpha * delta_t) / (delta_x ** 2)"
   ]
  },
  {
   "cell_type": "markdown",
   "id": "8bb017b1-7874-4dda-82c3-73cae9e52d25",
   "metadata": {},
   "source": [
    "A malha é criada inicialmente vazia e então posteriormente preenchida com os valores de $u(x, y, t) = u^k_{i,j}$ para o tempo igual a zero."
   ]
  },
  {
   "cell_type": "code",
   "execution_count": 6,
   "id": "dc2502e0-8eab-4d6c-bd92-c8874f69c3d4",
   "metadata": {},
   "outputs": [],
   "source": [
    "u = np.empty((max_iter_temp, comp_chapa, comp_chapa))\n",
    "u.fill(u_interno)"
   ]
  },
  {
   "cell_type": "markdown",
   "id": "bc0aa25b-b9bd-4a5c-91ca-6dc94d174d3c",
   "metadata": {},
   "source": [
    "A malha pode ser inspecionada da seguinte forma:"
   ]
  },
  {
   "cell_type": "code",
   "execution_count": 7,
   "id": "ba4a3ff0-c160-4cfb-8ae7-3920034416e1",
   "metadata": {},
   "outputs": [
    {
     "data": {
      "text/plain": [
       "array([[[0., 0., 0., ..., 0., 0., 0.],\n",
       "        [0., 0., 0., ..., 0., 0., 0.],\n",
       "        [0., 0., 0., ..., 0., 0., 0.],\n",
       "        ...,\n",
       "        [0., 0., 0., ..., 0., 0., 0.],\n",
       "        [0., 0., 0., ..., 0., 0., 0.],\n",
       "        [0., 0., 0., ..., 0., 0., 0.]],\n",
       "\n",
       "       [[0., 0., 0., ..., 0., 0., 0.],\n",
       "        [0., 0., 0., ..., 0., 0., 0.],\n",
       "        [0., 0., 0., ..., 0., 0., 0.],\n",
       "        ...,\n",
       "        [0., 0., 0., ..., 0., 0., 0.],\n",
       "        [0., 0., 0., ..., 0., 0., 0.],\n",
       "        [0., 0., 0., ..., 0., 0., 0.]],\n",
       "\n",
       "       [[0., 0., 0., ..., 0., 0., 0.],\n",
       "        [0., 0., 0., ..., 0., 0., 0.],\n",
       "        [0., 0., 0., ..., 0., 0., 0.],\n",
       "        ...,\n",
       "        [0., 0., 0., ..., 0., 0., 0.],\n",
       "        [0., 0., 0., ..., 0., 0., 0.],\n",
       "        [0., 0., 0., ..., 0., 0., 0.]],\n",
       "\n",
       "       ...,\n",
       "\n",
       "       [[0., 0., 0., ..., 0., 0., 0.],\n",
       "        [0., 0., 0., ..., 0., 0., 0.],\n",
       "        [0., 0., 0., ..., 0., 0., 0.],\n",
       "        ...,\n",
       "        [0., 0., 0., ..., 0., 0., 0.],\n",
       "        [0., 0., 0., ..., 0., 0., 0.],\n",
       "        [0., 0., 0., ..., 0., 0., 0.]],\n",
       "\n",
       "       [[0., 0., 0., ..., 0., 0., 0.],\n",
       "        [0., 0., 0., ..., 0., 0., 0.],\n",
       "        [0., 0., 0., ..., 0., 0., 0.],\n",
       "        ...,\n",
       "        [0., 0., 0., ..., 0., 0., 0.],\n",
       "        [0., 0., 0., ..., 0., 0., 0.],\n",
       "        [0., 0., 0., ..., 0., 0., 0.]],\n",
       "\n",
       "       [[0., 0., 0., ..., 0., 0., 0.],\n",
       "        [0., 0., 0., ..., 0., 0., 0.],\n",
       "        [0., 0., 0., ..., 0., 0., 0.],\n",
       "        ...,\n",
       "        [0., 0., 0., ..., 0., 0., 0.],\n",
       "        [0., 0., 0., ..., 0., 0., 0.],\n",
       "        [0., 0., 0., ..., 0., 0., 0.]]])"
      ]
     },
     "execution_count": 7,
     "metadata": {},
     "output_type": "execute_result"
    }
   ],
   "source": [
    "u"
   ]
  },
  {
   "cell_type": "markdown",
   "id": "f3d50eca-c713-4fde-9ded-9f389711ee03",
   "metadata": {},
   "source": [
    "Agora vamos adicionar as condições de contorno à malha."
   ]
  },
  {
   "cell_type": "code",
   "execution_count": 8,
   "id": "311c31a5-4a6e-47d4-9750-bab8090b3b50",
   "metadata": {},
   "outputs": [],
   "source": [
    "u[:, (comp_chapa-1):, :] = u_sup\n",
    "u[:, :, :1] = u_esq\n",
    "u[:, :1, 1:] = u_baixo\n",
    "u[:, :, (comp_chapa-1):] = u_dir"
   ]
  },
  {
   "cell_type": "markdown",
   "id": "44bf37ac-d2cc-4f32-93d7-beb79a06a180",
   "metadata": {},
   "source": [
    "O método de diferenças finitas é implementado da seguinte forma:"
   ]
  },
  {
   "cell_type": "code",
   "execution_count": 13,
   "id": "1d058868-8589-4091-b583-f611dc78eca7",
   "metadata": {},
   "outputs": [],
   "source": [
    "def fem_method(u):\n",
    "  for k in range(0, max_iter_temp-1, 1):\n",
    "    for i in range(1, comp_chapa-1, delta_x):\n",
    "      for j in range(1, comp_chapa-1, delta_x):\n",
    "        u[k + 1, i, j] = gamma * (u[k][i+1][j] + u[k][i-1][j] + u[k][i][j+1] + u[k][i][j-1] - 4*u[k][i][j]) + u[k][i][j]\n",
    "  \n",
    "  return u"
   ]
  },
  {
   "cell_type": "markdown",
   "id": "253f849f-624e-490d-99dd-48f7460362da",
   "metadata": {},
   "source": [
    "Note a iteração em cada um dos eixos, inciando por $y$, $x$ e em seguida $t$.\n",
    "\n",
    "Então se faz o cálculo de $u$. (Pode levar um tempinho...)"
   ]
  },
  {
   "cell_type": "code",
   "execution_count": 15,
   "id": "8b1b7758-c7ac-4dff-bb05-c6e58698b8b4",
   "metadata": {},
   "outputs": [],
   "source": [
    "u = fem_method(u)"
   ]
  },
  {
   "cell_type": "markdown",
   "id": "c5031eba-7e46-4ff4-8bf4-fd42969a8b0d",
   "metadata": {},
   "source": [
    "Para exibir a evolução temporal da propagação de calor utiliza-se uma função que realiza a plotagem dos dados e que será atualizada a cada iteração. "
   ]
  },
  {
   "cell_type": "code",
   "execution_count": 10,
   "id": "d4541127-b84b-474b-826e-3aadca881ba6",
   "metadata": {},
   "outputs": [],
   "source": [
    "def plotheatmap(u_k, k):\n",
    "  # Clear the current plot figure\n",
    "  plt.clf()\n",
    "  plt.title(f\"Temperatura em t = {k*delta_t:.3f} unit time\")\n",
    "  plt.xlabel(\"x\")\n",
    "  plt.ylabel(\"y\")\n",
    "  \n",
    "  # This is to plot u_k (u at time-step k)\n",
    "  plt.pcolormesh(u_k, cmap=plt.cm.jet, vmin=0, vmax=100)\n",
    "  plt.colorbar()\n",
    "  \n",
    "  return plt"
   ]
  },
  {
   "cell_type": "markdown",
   "id": "c261ac1d-8e25-455a-97df-48ce21689e3f",
   "metadata": {},
   "source": [
    "A animação do processo é criada. (Pode levar outro tempinho...)"
   ]
  },
  {
   "cell_type": "code",
   "execution_count": 22,
   "id": "fc0e61e2-45d1-4751-9d4f-f067eff46a25",
   "metadata": {},
   "outputs": [
    {
     "data": {
      "image/png": "[encoded data removed]",
      "text/plain": [
       "<Figure size 640x480 with 2 Axes>"
      ]
     },
     "metadata": {},
     "output_type": "display_data"
    }
   ],
   "source": [
    "def animate(k):\n",
    "    plotheatmap(u[k], k)\n",
    "anim = animation.FuncAnimation(plt.figure(), animate, interval=1, frames=max_iter_temp, repeat=True)"
   ]
  },
  {
   "cell_type": "code",
   "execution_count": 23,
   "id": "876eb34a-77ad-4a6c-a97b-eeae3f710a0f",
   "metadata": {},
   "outputs": [
    {
     "name": "stderr",
     "output_type": "stream",
     "text": [
      "MovieWriter ffmpeg unavailable; using Pillow instead.\n"
     ]
    },
    {
     "data": {
      "image/png": "[encoded data removed]",
      "text/plain": [
       "<Figure size 640x480 with 2 Axes>"
      ]
     },
     "metadata": {},
     "output_type": "display_data"
    }
   ],
   "source": [
    "anim.save(\"solucao_equacao_calor.gif\")"
   ]
  },
  {
   "cell_type": "markdown",
   "id": "2f1dddbb-f21e-49d1-a6f1-aa71fa4609dd",
   "metadata": {},
   "source": [
    "## Atividade\n",
    "Modifique as condições de contorno para tentar uma nova simulação e veja o resultado. \n",
    "\n",
    "``` Python\n",
    "u_sup = 0.0\n",
    "u_esq = 0.0\n",
    "u_baixo = 0.0\n",
    "u_dir = 0.0\n",
    "\n",
    "u_interno = np.random.uniform(low=28.5, high=55.5, size=(plate_length,plate_length))\n",
    "\n",
    "u[0,:,:] = u_interno\n",
    "```"
   ]
  },
  {
   "cell_type": "code",
   "execution_count": null,
   "id": "4dd8382b-e5cf-4cf7-8a7a-f2937881ed95",
   "metadata": {},
   "outputs": [],
   "source": []
  }
 ],
 "metadata": {
  "kernelspec": {
   "display_name": "Python 3 (ipykernel)",
   "language": "python",
   "name": "python3"
  },
  "language_info": {
   "codemirror_mode": {
    "name": "ipython",
    "version": 3
   },
   "file_extension": ".py",
   "mimetype": "text/x-python",
   "name": "python",
   "nbconvert_exporter": "python",
   "pygments_lexer": "ipython3",
   "version": "3.10.9"
  }
 },
 "nbformat": 4,
 "nbformat_minor": 5
}
