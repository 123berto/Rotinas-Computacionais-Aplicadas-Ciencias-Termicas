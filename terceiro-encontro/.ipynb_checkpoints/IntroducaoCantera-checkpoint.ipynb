{
 "cells": [
  {
   "cell_type": "markdown",
   "id": "2fcfc95f-c703-455b-b245-c96b93cc1e73",
   "metadata": {},
   "source": [
    "# Introdução ao Cantera\n",
    "## Cursos de Verão IFMG-Arcos 2023\n",
    "### Rotinas computacionais aplicadas às Ciências Térmicas - GESESC\n",
    "#### Autor: *Reginaldo Gonçalves Leão Junior*\n",
    "\n",
    "O Cantera é uma suíte computacional para problemas de termodinâmica, termoquímica e processos de transporte.\n",
    "Diferentemente do CoolProp que trata apenas transformações físicas, o Cantera pode lidar com processos termodinâmicos nos quais ocorrem também tranformações \n",
    "químicas. Devido a isso ele utiliza para seu funcionamento bases de dados denominadas **Mecanismos de Reação**, arquivos que contém as propriedades cinéticas e termodinâmicas de uma determinada série de compostos e reações. \n",
    "\n",
    "Um dos mecanismos de reação mais utilizados no mundo é o GRIMECH3.0 um mecanismo especialmente desenvolvido para o estudo de processos termoquímicos envolvendo \n",
    "cadeias carbônicas de massa molar baixa, muito especialmente o metano.\n",
    "\n",
    "A importação do Cantera geralmente é feita da seguinte forma. "
   ]
  },
  {
   "cell_type": "code",
   "execution_count": 1,
   "id": "c412a79b-0f6b-4bc0-b2a6-46c4ef7cbc45",
   "metadata": {},
   "outputs": [],
   "source": [
    "import cantera as ct"
   ]
  },
  {
   "cell_type": "markdown",
   "id": "88aed1b2-3acd-41e7-901f-4411d9f799fc",
   "metadata": {},
   "source": [
    "Após a importação geralmente cria-se um modelo computacional de gás indicando o mecanismo de reação a ser utilizado. "
   ]
  },
  {
   "cell_type": "code",
   "execution_count": 2,
   "id": "4451d0f7-c29d-40bf-845a-10d9f531aef5",
   "metadata": {},
   "outputs": [],
   "source": [
    "gas1 = ct.Solution('gri30.yaml')"
   ]
  },
  {
   "cell_type": "markdown",
   "id": "516fb1d7-0a5e-42fa-b04f-87953a11797f",
   "metadata": {},
   "source": [
    "As propriedades iniciais do gás podem ser inpecionadas fazendo-se:"
   ]
  },
  {
   "cell_type": "code",
   "execution_count": 3,
   "id": "46b59805-eaf7-42ab-be6d-a8d7da047f06",
   "metadata": {},
   "outputs": [
    {
     "name": "stdout",
     "output_type": "stream",
     "text": [
      "\n",
      "  gri30:\n",
      "\n",
      "       temperature   300 K\n",
      "          pressure   1.0133e+05 Pa\n",
      "           density   0.081894 kg/m^3\n",
      "  mean mol. weight   2.016 kg/kmol\n",
      "   phase of matter   gas\n",
      "\n",
      "                          1 kg             1 kmol     \n",
      "                     ---------------   ---------------\n",
      "          enthalpy             26469             53361  J\n",
      "   internal energy       -1.2108e+06        -2.441e+06  J\n",
      "           entropy             64910        1.3086e+05  J/K\n",
      "    Gibbs function       -1.9447e+07       -3.9204e+07  J\n",
      " heat capacity c_p             14311             28851  J/K\n",
      " heat capacity c_v             10187             20536  J/K\n",
      "\n",
      "                      mass frac. Y      mole frac. X     chem. pot. / RT\n",
      "                     ---------------   ---------------   ---------------\n",
      "                H2                 1                 1           -15.717\n",
      "     [  +52 minor]                 0                 0  \n",
      "\n"
     ]
    }
   ],
   "source": [
    "gas1()"
   ]
  },
  {
   "cell_type": "markdown",
   "id": "46ba40fb-8d57-4cb7-9c95-66e69fa6d43d",
   "metadata": {},
   "source": [
    "Observe sua composição, ele possui $H_2$, mas pode representar até outras 52 espécies.\n",
    "Para mudar as propriedades termodiâmicas do gás você pode passar pares de valores para cada uma das propriedades da seguinte forma. "
   ]
  },
  {
   "cell_type": "code",
   "execution_count": 4,
   "id": "2136fdce-8e65-40e0-8f73-b4f9f5ee0bc0",
   "metadata": {},
   "outputs": [],
   "source": [
    "gas1.TP = 1200, 101325  # Temperatura e pressão"
   ]
  },
  {
   "cell_type": "code",
   "execution_count": 5,
   "id": "1ea67b32-fa9d-4923-9610-5dc8f5a2fad6",
   "metadata": {},
   "outputs": [],
   "source": [
    "gas1.TD = 1200, 0.0204723 # Temperatura e densidade"
   ]
  },
  {
   "cell_type": "code",
   "execution_count": 6,
   "id": "09d53aa8-e3d5-45e1-9be1-e69763ec2122",
   "metadata": {},
   "outputs": [],
   "source": [
    "gas1.HP = 1.32956e7, 101325 # Entalpia específica e densidade"
   ]
  },
  {
   "cell_type": "code",
   "execution_count": 7,
   "id": "76c01a74-cbff-4780-b8e5-d05ae8a08b40",
   "metadata": {},
   "outputs": [],
   "source": [
    "gas1.UV = 18.34619e6, 1/0.0204723 # Energia interna específica e volume específico"
   ]
  },
  {
   "cell_type": "code",
   "execution_count": 8,
   "id": "a6d073e2-6a44-4e52-8604-e5253ca9c024",
   "metadata": {},
   "outputs": [],
   "source": [
    "gas1.SP = 85227.6, 101325 # Entropia específica e pressão"
   ]
  },
  {
   "cell_type": "code",
   "execution_count": 9,
   "id": "8ac9751f-190a-423f-8d4d-071eb8623594",
   "metadata": {},
   "outputs": [],
   "source": [
    "gas1.SV = 85227.6, 1/0.0204723 #Entropia específica e volume específico"
   ]
  },
  {
   "cell_type": "markdown",
   "id": "6b8ecd83-a1c6-4974-a7d3-4aa2b6f8b615",
   "metadata": {},
   "source": [
    "Inspecionando as novas propriedades termodinâmicas"
   ]
  },
  {
   "cell_type": "code",
   "execution_count": 10,
   "id": "fb37efb4-9b7e-4ad5-bdeb-0b15513630d2",
   "metadata": {},
   "outputs": [
    {
     "name": "stdout",
     "output_type": "stream",
     "text": [
      "\n",
      "  gri30:\n",
      "\n",
      "       temperature   1200.5 K\n",
      "          pressure   1.0136e+05 Pa\n",
      "           density   0.020472 kg/m^3\n",
      "  mean mol. weight   2.016 kg/kmol\n",
      "   phase of matter   gas\n",
      "\n",
      "                          1 kg             1 kmol     \n",
      "                     ---------------   ---------------\n",
      "          enthalpy        1.3303e+07        2.6818e+07  J\n",
      "   internal energy        8.3515e+06        1.6837e+07  J\n",
      "           entropy             85228        1.7182e+05  J/K\n",
      "    Gibbs function       -8.9015e+07       -1.7945e+08  J\n",
      " heat capacity c_p             15378             31002  J/K\n",
      " heat capacity c_v             11254             22688  J/K\n",
      "\n",
      "                      mass frac. Y      mole frac. X     chem. pot. / RT\n",
      "                     ---------------   ---------------   ---------------\n",
      "                H2                 1                 1           -17.978\n",
      "     [  +52 minor]                 0                 0  \n",
      "\n"
     ]
    }
   ],
   "source": [
    "gas1()"
   ]
  },
  {
   "cell_type": "markdown",
   "id": "5dbb76f6-1f5a-4baa-b2cb-59ed4f50ebcc",
   "metadata": {},
   "source": [
    "Vamos criar um segundo gás, agora com outra composição."
   ]
  },
  {
   "cell_type": "code",
   "execution_count": 14,
   "id": "9358a568-15ac-40a5-8ede-29482e131650",
   "metadata": {},
   "outputs": [],
   "source": [
    "gas2 = ct.Solution('gri30.yaml')"
   ]
  },
  {
   "cell_type": "code",
   "execution_count": 16,
   "id": "a84010bb-446e-4e82-ba84-a7954e39a240",
   "metadata": {},
   "outputs": [],
   "source": [
    "gas2.X = 'CH4:1, O2:2, N2:7.52'"
   ]
  },
  {
   "cell_type": "markdown",
   "id": "82def396-3f47-41e3-afca-1110f5adaf16",
   "metadata": {},
   "source": [
    "Este novo gás é composto por 1 mol de metano, 2 mols de oxigênio molecular e 7.52 mols de nitrogênio molecular. Veja suas propriedades \n",
    "termodiâmicas."
   ]
  },
  {
   "cell_type": "code",
   "execution_count": 19,
   "id": "a22bc6be-fb80-46fe-9cfe-b1ebcc9dab84",
   "metadata": {},
   "outputs": [
    {
     "name": "stdout",
     "output_type": "stream",
     "text": [
      "\n",
      "  gri30:\n",
      "\n",
      "       temperature   300 K\n",
      "          pressure   7392.2 Pa\n",
      "           density   0.081894 kg/m^3\n",
      "  mean mol. weight   27.633 kg/kmol\n",
      "   phase of matter   gas\n",
      "\n",
      "                          1 kg             1 kmol     \n",
      "                     ---------------   ---------------\n",
      "          enthalpy       -2.5459e+05       -7.0351e+06  J\n",
      "   internal energy       -3.4485e+05       -9.5295e+06  J\n",
      "           entropy            8035.4        2.2205e+05  J/K\n",
      "    Gibbs function       -2.6652e+06       -7.3649e+07  J\n",
      " heat capacity c_p            1077.3             29770  J/K\n",
      " heat capacity c_v            776.45             21456  J/K\n",
      "\n",
      "                      mass frac. Y      mole frac. X     chem. pot. / RT\n",
      "                     ---------------   ---------------   ---------------\n",
      "                O2           0.22014           0.19011           -28.952\n",
      "               CH4          0.055187          0.095057           -57.294\n",
      "                N2           0.72467           0.71483           -25.987\n",
      "     [  +50 minor]                 0                 0  \n",
      "\n"
     ]
    }
   ],
   "source": [
    "gas2()"
   ]
  },
  {
   "cell_type": "markdown",
   "id": "b48be795-bede-40a8-a771-9c68ae79c6fd",
   "metadata": {},
   "source": [
    "#### Atividade 1\n",
    "Altere a temperatura do gás para 1200 K e a pressão para 1 atm."
   ]
  },
  {
   "cell_type": "code",
   "execution_count": 21,
   "id": "376edf55-547e-45c5-b125-e4923ba0ee58",
   "metadata": {},
   "outputs": [
    {
     "name": "stdout",
     "output_type": "stream",
     "text": [
      "\n",
      "  gri30:\n",
      "\n",
      "       temperature   1200 K\n",
      "          pressure   1.0133e+05 Pa\n",
      "           density   0.28063 kg/m^3\n",
      "  mean mol. weight   27.633 kg/kmol\n",
      "   phase of matter   gas\n",
      "\n",
      "                          1 kg             1 kmol     \n",
      "                     ---------------   ---------------\n",
      "          enthalpy        8.6193e+05        2.3818e+07  J\n",
      "   internal energy        5.0087e+05        1.3841e+07  J\n",
      "           entropy            8914.2        2.4633e+05  J/K\n",
      "    Gibbs function       -9.8351e+06       -2.7178e+08  J\n",
      " heat capacity c_p            1397.3             38611  J/K\n",
      " heat capacity c_v            1096.4             30296  J/K\n",
      "\n",
      "                      mass frac. Y      mole frac. X     chem. pot. / RT\n",
      "                     ---------------   ---------------   ---------------\n",
      "                O2           0.22014           0.19011           -28.747\n",
      "               CH4          0.055187          0.095057           -35.961\n",
      "                N2           0.72467           0.71483           -25.679\n",
      "     [  +50 minor]                 0                 0  \n",
      "\n"
     ]
    }
   ],
   "source": [
    "gas2.TP = 1200, 101325\n",
    "gas2()"
   ]
  },
  {
   "cell_type": "markdown",
   "id": "e579762b-d345-4a4b-8d3d-3965bad480ce",
   "metadata": {},
   "source": [
    "Para obter suas principais propriedades termodiâmicas, use a descrição contida [AQUI](https://cantera.org/documentation/docs-2.6/sphinx/html/cython/thermo.html)\n",
    "\n",
    "#### Atividade 2\n",
    "Compare graficamente as propriedades termodinâmicas do metano obtidas pelo CooProp e pelo Cantera."
   ]
  },
  {
   "cell_type": "code",
   "execution_count": null,
   "id": "12602045-3df7-4614-979e-005d68d06b46",
   "metadata": {},
   "outputs": [],
   "source": []
  }
 ],
 "metadata": {
  "kernelspec": {
   "display_name": "Python 3 (ipykernel)",
   "language": "python",
   "name": "python3"
  },
  "language_info": {
   "codemirror_mode": {
    "name": "ipython",
    "version": 3
   },
   "file_extension": ".py",
   "mimetype": "text/x-python",
   "name": "python",
   "nbconvert_exporter": "python",
   "pygments_lexer": "ipython3",
   "version": "3.10.9"
  }
 },
 "nbformat": 4,
 "nbformat_minor": 5
}
